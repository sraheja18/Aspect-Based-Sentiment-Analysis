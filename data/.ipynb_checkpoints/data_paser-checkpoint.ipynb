{
 "cells": [
  {
   "cell_type": "code",
   "execution_count": 37,
   "metadata": {},
   "outputs": [],
   "source": [
    "import pandas as pd"
   ]
  },
  {
   "cell_type": "code",
   "execution_count": 38,
   "metadata": {},
   "outputs": [],
   "source": [
    "def to_csv(path, name):\n",
    "    df = pd.read_csv(path, sep='\\t', names=['text'])\n",
    "    print(len(df))\n",
    "    df = pd.DataFrame(df.text.str.split(' ',).tolist(), columns=['token', 'tag', 'pol'])\n",
    "    print(len(df))\n",
    "    df.head(10)\n",
    "\n",
    "    tokens_list=[]\n",
    "    tags_list=[]\n",
    "    pols_list=[]\n",
    "\n",
    "    tokens=[]\n",
    "    tags=[]\n",
    "    pols=[]\n",
    "\n",
    "    for i in range(len(df)):\n",
    "        \n",
    "        token, tag, pol = df.iloc[i, :3].values\n",
    "\n",
    "        tokens.append(token)\n",
    "\n",
    "        if tag == 'O' : \n",
    "            tags.append(0)\n",
    "        elif tag = 'B-ASP':\n",
    "            tags.append(1)\n",
    "        else: \n",
    "            tags.append(1)\n",
    "\n",
    "        pols.append(int(pol))\n",
    "\n",
    "\n",
    "        if token in ['.','!','?']:\n",
    "            tokens_list.append(tokens)\n",
    "            tags_list.append(tags)\n",
    "            pols_list.append(pols)\n",
    "            tokens=[]\n",
    "            tags=[]\n",
    "            pols=[]\n",
    "\n",
    "    data = {'Tokens': tokens_list, \n",
    "            'Tags': tags_list, \n",
    "            'Polarities': pols_list}\n",
    "\n",
    "    df = pd.DataFrame(data)\n",
    "    print(len(df))\n",
    "    df.head()\n",
    "\n",
    "    df.to_csv(name, index=False)"
   ]
  },
  {
   "cell_type": "code",
   "execution_count": 39,
   "metadata": {},
   "outputs": [],
   "source": [
    "def to_csv2(path, name):\n",
    "    df = pd.read_csv(path, sep='\\t', names=['text'])\n",
    "    print(len(df))\n",
    "    df = pd.DataFrame(df.text.str.split(' ',).tolist(), columns=['token', 'tag', 'pol', 'non', 'non'])\n",
    "    print(len(df))\n",
    "    df.head(10)\n",
    "\n",
    "    tokens_list=[]\n",
    "    tags_list=[]\n",
    "    pols_list=[]\n",
    "\n",
    "    tokens=[]\n",
    "    tags=[]\n",
    "    pols=[]\n",
    "\n",
    "    for i in range(len(df)):\n",
    "        \n",
    "        token, tag, pol, _, _ = df.iloc[i, :5].values\n",
    "\n",
    "        tokens.append(token)\n",
    "\n",
    "        if tag == 'O' : \n",
    "            tags.append(0)\n",
    "        else:\n",
    "            tags.append(1) \n",
    "        print(token)\n",
    "        print(pol)\n",
    "        pols.append(int(pol))\n",
    "\n",
    "\n",
    "        if token in ['.','!','?']:\n",
    "            tokens_list.append(tokens)\n",
    "            tags_list.append(tags)\n",
    "            pols_list.append(pols)\n",
    "            tokens=[]\n",
    "            tags=[]\n",
    "            pols=[]\n",
    "\n",
    "    data = {'Tokens': tokens_list, \n",
    "            'Tags': tags_list, \n",
    "            'Polarities': pols_list}\n",
    "\n",
    "    df = pd.DataFrame(data)\n",
    "    print(len(df))\n",
    "    df.head()\n",
    "\n",
    "    df.to_csv(name, index=False)"
   ]
  },
  {
   "cell_type": "code",
   "execution_count": 40,
   "metadata": {},
   "outputs": [
    {
     "name": "stdout",
     "output_type": "stream",
     "text": [
      "51399\n",
      "51399\n",
      "2287\n"
     ]
    }
   ],
   "source": [
    "to_csv('atepc_datasets/laptop/Laptops.atepc.train.dat','laptops_train.csv')"
   ]
  },
  {
   "cell_type": "code",
   "execution_count": 41,
   "metadata": {},
   "outputs": [
    {
     "name": "stdout",
     "output_type": "stream",
     "text": [
      "72186\n",
      "72186\n",
      "3563\n"
     ]
    }
   ],
   "source": [
    "to_csv('atepc_datasets/restaurant/Restaurants.atepc.train.dat','restaurants_train.csv')"
   ]
  },
  {
   "cell_type": "code",
   "execution_count": 43,
   "metadata": {
    "tags": []
   },
   "outputs": [
    {
     "name": "stdout",
     "output_type": "stream",
     "text": [
      "11685\n",
      "11685\n",
      "636\n"
     ]
    }
   ],
   "source": [
    "to_csv('atepc_datasets/laptop/Laptops.atepc.test.dat','laptops_test.csv')"
   ]
  },
  {
   "cell_type": "code",
   "execution_count": 44,
   "metadata": {},
   "outputs": [
    {
     "name": "stdout",
     "output_type": "stream",
     "text": [
      "21259\n",
      "21259\n",
      "1090\n"
     ]
    }
   ],
   "source": [
    "to_csv('atepc_datasets/restaurant/Restaurants.atepc.test.dat','restaurants_test.csv')"
   ]
  },
  {
   "cell_type": "code",
   "execution_count": null,
   "metadata": {},
   "outputs": [],
   "source": []
  },
  {
   "cell_type": "code",
   "execution_count": null,
   "metadata": {},
   "outputs": [],
   "source": []
  }
 ],
 "metadata": {
  "kernelspec": {
   "display_name": "Python 3",
   "language": "python",
   "name": "python3"
  },
  "language_info": {
   "codemirror_mode": {
    "name": "ipython",
    "version": 3
   },
   "file_extension": ".py",
   "mimetype": "text/x-python",
   "name": "python",
   "nbconvert_exporter": "python",
   "pygments_lexer": "ipython3",
   "version": "3.8.3"
  }
 },
 "nbformat": 4,
 "nbformat_minor": 2
}
