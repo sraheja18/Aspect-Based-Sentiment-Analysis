{
 "cells": [
  {
   "cell_type": "code",
   "execution_count": 3,
   "id": "55ed0ef5-35f9-46ae-acda-414f7cecfffc",
   "metadata": {},
   "outputs": [],
   "source": [
    "from model.bert import bert_ATE\n",
    "from data.dataset import dataset_ATM,remove_duplicates\n",
    "from torch.utils.data import DataLoader, ConcatDataset\n",
    "from transformers import BertTokenizer\n",
    "import torch\n",
    "from torch.nn.utils.rnn import pad_sequence\n",
    "import pandas as pd\n",
    "import time\n",
    "import numpy as np\n",
    "from sklearn.metrics import classification_report\n",
    "from sklearn.metrics import confusion_matrix"
   ]
  },
  {
   "cell_type": "code",
   "execution_count": 4,
   "id": "f1031f2b-b0e3-4f11-9926-31ed8645fe13",
   "metadata": {},
   "outputs": [],
   "source": [
    "DEVICE = torch.device(\"mps\" if torch.has_mps else \"cpu\")\n",
    "pretrain_model_name = \"bert-base-uncased\"\n",
    "tokenizer = BertTokenizer.from_pretrained(pretrain_model_name)\n",
    "lr = 2e-5\n",
    "model_ATE = bert_ATE(pretrain_model_name).to(DEVICE)\n",
    "optimizer_ATE = torch.optim.Adam(model_ATE.parameters(), lr=lr)"
   ]
  },
  {
   "cell_type": "code",
   "execution_count": 5,
   "id": "45c8804a-0494-458e-919d-d0d4a340d641",
   "metadata": {},
   "outputs": [],
   "source": [
    "def load_model(model, path):\n",
    "    model.load_state_dict(torch.load(path), strict=False)\n",
    "    return model"
   ]
  },
  {
   "cell_type": "code",
   "execution_count": 6,
   "id": "28111e0f-dc3f-4725-ac0f-39f9099b5fae",
   "metadata": {},
   "outputs": [],
   "source": [
    "laptops_test = remove_duplicates(pd.read_csv(\"data/laptops_test.csv\"))\n",
    "restaurants_test = remove_duplicates(pd.read_csv(\"data/restaurants_test.csv\"))\n",
    "twitter_test = remove_duplicates(pd.read_csv(\"data/twitter_test.csv\"))"
   ]
  },
  {
   "cell_type": "code",
   "execution_count": 7,
   "id": "9a8ce8c6-a6a4-48ff-bf40-1f274daf0e10",
   "metadata": {},
   "outputs": [],
   "source": [
    "laptops_test_ds = dataset_ATM(laptops_test, tokenizer)\n",
    "restaurants_test_ds = dataset_ATM(restaurants_test, tokenizer)\n",
    "twitter_test_ds = dataset_ATM(twitter_test, tokenizer)"
   ]
  },
  {
   "cell_type": "code",
   "execution_count": 8,
   "id": "35328033-2a49-487f-9982-b727c81e3fa4",
   "metadata": {},
   "outputs": [],
   "source": [
    "test_ds = ConcatDataset([laptops_test_ds, restaurants_test_ds, twitter_test_ds])"
   ]
  },
  {
   "cell_type": "code",
   "execution_count": 9,
   "id": "f36309f7-899b-4051-bfba-e2f95508c796",
   "metadata": {},
   "outputs": [],
   "source": [
    "def create_mini_batch(samples):\n",
    "    ids_tensors = [s[1] for s in samples]\n",
    "    ids_tensors = pad_sequence(ids_tensors, batch_first=True)\n",
    "\n",
    "    tags_tensors = [s[2] for s in samples]\n",
    "    tags_tensors = pad_sequence(tags_tensors, batch_first=True)\n",
    "\n",
    "    pols_tensors = [s[3] for s in samples]\n",
    "    pols_tensors = pad_sequence(pols_tensors, batch_first=True)\n",
    "    \n",
    "    masks_tensors = torch.zeros(ids_tensors.shape, dtype=torch.long)\n",
    "    masks_tensors = masks_tensors.masked_fill(ids_tensors != 0, 1)\n",
    "    \n",
    "    return ids_tensors, tags_tensors, pols_tensors, masks_tensors"
   ]
  },
  {
   "cell_type": "code",
   "execution_count": 10,
   "id": "51818991-909a-4dd9-9a69-0ec89095f1c8",
   "metadata": {},
   "outputs": [],
   "source": [
    "test_loader = DataLoader(test_ds, batch_size=50, collate_fn=create_mini_batch, shuffle = True)"
   ]
  },
  {
   "cell_type": "code",
   "execution_count": 60,
   "id": "a1a2bb39-d07a-455c-a6b2-b259ed20b38b",
   "metadata": {},
   "outputs": [],
   "source": [
    "def test_model_ATE(loader):\n",
    "    pred = []\n",
    "    truth = []\n",
    "    with torch.no_grad():\n",
    "        for data in loader:\n",
    "\n",
    "            ids_tensors, tags_tensors, _, masks_tensors = data\n",
    "            ids_tensors = ids_tensors.to(DEVICE)\n",
    "            tags_tensors = tags_tensors.to(DEVICE)\n",
    "            masks_tensors = masks_tensors.to(DEVICE)\n",
    "            outputs = model_ATE(ids_tensors=ids_tensors, tags_tensors=None, masks_tensors=masks_tensors)\n",
    "            outputs = torch.softmax(outputs, dim=2)\n",
    "            _, predictions = torch.max(outputs, dim=2)\n",
    "            pred += list([int(j) for i in predictions for j in i ])\n",
    "            truth += list([int(j) for i in tags_tensors for j in i ])\n",
    "    return truth, pred\n"
   ]
  },
  {
   "cell_type": "code",
   "execution_count": 61,
   "id": "8ca1668f-2eec-4f33-988d-4dba3b68dca2",
   "metadata": {},
   "outputs": [],
   "source": [
    "model_ATE = load_model(model_ATE, 'bert_ATE.pkl')"
   ]
  },
  {
   "cell_type": "code",
   "execution_count": 62,
   "id": "c6e9a8c3-2af1-4cad-a618-f8e42d5961e9",
   "metadata": {},
   "outputs": [],
   "source": [
    "truth, pred = test_model_ATE(test_loader)"
   ]
  },
  {
   "cell_type": "code",
   "execution_count": 63,
   "id": "eed8cd94-ad20-472f-8c84-42f353cb1f7d",
   "metadata": {},
   "outputs": [
    {
     "name": "stdout",
     "output_type": "stream",
     "text": [
      "              precision    recall  f1-score   support\n",
      "\n",
      "           0       0.99      1.00      0.99     84653\n",
      "           1       0.90      0.85      0.88      3089\n",
      "           2       0.89      0.78      0.83      1834\n",
      "\n",
      "    accuracy                           0.99     89576\n",
      "   macro avg       0.93      0.88      0.90     89576\n",
      "weighted avg       0.99      0.99      0.99     89576\n",
      "\n"
     ]
    }
   ],
   "source": [
    "print(classification_report(truth, pred, target_names=[str(i) for i in range(3)]))"
   ]
  },
  {
   "cell_type": "code",
   "execution_count": null,
   "id": "e656fe91-ef54-44db-9ac7-ab2e075ee9cf",
   "metadata": {},
   "outputs": [],
   "source": []
  }
 ],
 "metadata": {
  "kernelspec": {
   "display_name": "Python 3 (ipykernel)",
   "language": "python",
   "name": "python3"
  },
  "language_info": {
   "codemirror_mode": {
    "name": "ipython",
    "version": 3
   },
   "file_extension": ".py",
   "mimetype": "text/x-python",
   "name": "python",
   "nbconvert_exporter": "python",
   "pygments_lexer": "ipython3",
   "version": "3.10.9"
  }
 },
 "nbformat": 4,
 "nbformat_minor": 5
}
