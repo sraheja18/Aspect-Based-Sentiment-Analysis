{
 "cells": [
  {
   "cell_type": "code",
   "execution_count": 16,
   "id": "4009df64-e91b-48d4-af8e-8bde07660248",
   "metadata": {},
   "outputs": [],
   "source": [
    "from model.bert import bert_ABSA\n",
    "from data.dataset import dataset_ABSA\n",
    "from torch.utils.data import DataLoader, ConcatDataset\n",
    "from transformers import BertTokenizer\n",
    "import torch\n",
    "from torch.nn.utils.rnn import pad_sequence\n",
    "import pandas as pd\n",
    "import time\n",
    "import numpy as np\n",
    "from sklearn.metrics import classification_report\n",
    "from sklearn.metrics import confusion_matrix"
   ]
  },
  {
   "cell_type": "code",
   "execution_count": 17,
   "id": "7a0da522-cc0c-4573-a398-0edfbaefc0bd",
   "metadata": {},
   "outputs": [],
   "source": [
    "DEVICE = torch.device(\"mps\" if torch.has_mps else \"cpu\")\n",
    "pretrain_model_name = \"bert-base-uncased\"\n",
    "tokenizer = BertTokenizer.from_pretrained(pretrain_model_name)\n",
    "lr = 2e-5\n",
    "model_ABSA = bert_ABSA(pretrain_model_name).to(DEVICE)\n",
    "optimizer_ABSA = torch.optim.Adam(model_ABSA.parameters(), lr=lr)"
   ]
  },
  {
   "cell_type": "code",
   "execution_count": 18,
   "id": "64239705-f79a-44d4-8052-635eab953ec6",
   "metadata": {},
   "outputs": [],
   "source": [
    "def load_model(model, path):\n",
    "    model.load_state_dict(torch.load(path), strict=False)\n",
    "    return model"
   ]
  },
  {
   "cell_type": "code",
   "execution_count": 19,
   "id": "a4cacde3-0d88-4f92-bd02-78c315994588",
   "metadata": {},
   "outputs": [],
   "source": [
    "laptops_train_ds = dataset_ABSA(pd.read_csv(\"data/laptops_train.csv\"), tokenizer)\n",
    "laptops_test_ds = dataset_ABSA(pd.read_csv(\"data/laptops_test.csv\"), tokenizer)\n",
    "restaurants_train_ds = dataset_ABSA(pd.read_csv(\"data/restaurants_train.csv\"), tokenizer)\n",
    "restaurants_test_ds = dataset_ABSA(pd.read_csv(\"data/restaurants_test.csv\"), tokenizer)\n",
    "twitter_train_ds = dataset_ABSA(pd.read_csv(\"data/twitter_train.csv\"), tokenizer)\n",
    "twitter_test_ds = dataset_ABSA(pd.read_csv(\"data/twitter_test.csv\"), tokenizer)"
   ]
  },
  {
   "cell_type": "code",
   "execution_count": 20,
   "id": "d0244260-9d9f-4d8c-be14-6b9d21088b55",
   "metadata": {},
   "outputs": [],
   "source": [
    "def create_mini_batch2(samples):\n",
    "    ids_tensors = [s[1] for s in samples]\n",
    "    ids_tensors = pad_sequence(ids_tensors, batch_first=True)\n",
    "\n",
    "    segments_tensors = [s[2] for s in samples]\n",
    "    segments_tensors = pad_sequence(segments_tensors, batch_first=True)\n",
    "\n",
    "    label_ids = torch.stack([s[3] for s in samples])\n",
    "    \n",
    "    masks_tensors = torch.zeros(ids_tensors.shape, dtype=torch.long)\n",
    "    masks_tensors = masks_tensors.masked_fill(ids_tensors != 0, 1)\n",
    "\n",
    "    return ids_tensors, segments_tensors, masks_tensors, label_ids"
   ]
  },
  {
   "cell_type": "code",
   "execution_count": 21,
   "id": "f67c2899-e892-4cc5-bb9e-39c84adf3925",
   "metadata": {},
   "outputs": [],
   "source": [
    "train_ds = ConcatDataset([laptops_train_ds, restaurants_train_ds, twitter_train_ds])\n",
    "test_ds = ConcatDataset([laptops_test_ds, restaurants_test_ds, twitter_test_ds])\n",
    "\n",
    "train_loader = DataLoader(train_ds, batch_size=4, collate_fn=create_mini_batch2, shuffle = True)\n",
    "test_loader = DataLoader(test_ds, batch_size=50, collate_fn=create_mini_batch2, shuffle = True)"
   ]
  },
  {
   "cell_type": "code",
   "execution_count": 31,
   "id": "e21279b9-74f5-4313-86ce-764b33b2f47b",
   "metadata": {},
   "outputs": [],
   "source": [
    "def test_model_ABSA(loader):\n",
    "    pred = []\n",
    "    truth = []\n",
    "    with torch.no_grad():\n",
    "        for data in loader:\n",
    "\n",
    "            ids_tensors, segments_tensors, masks_tensors, label_ids = data\n",
    "            ids_tensors = ids_tensors.to(DEVICE)\n",
    "            segments_tensors = segments_tensors.to(DEVICE)\n",
    "            masks_tensors = masks_tensors.to(DEVICE)\n",
    "\n",
    "            outputs = model_ABSA(ids_tensors, None, masks_tensors=masks_tensors, segments_tensors=segments_tensors)\n",
    "            outputs = torch.softmax(outputs, dim=1)\n",
    "            \n",
    "            _, predictions = torch.max(outputs, dim=1)\n",
    "            pred += list([int(i) for i in predictions])\n",
    "            truth += list([int(i) for i in label_ids])\n",
    "\n",
    "    return truth, pred"
   ]
  },
  {
   "cell_type": "code",
   "execution_count": 32,
   "id": "53adba9c-bb6c-4b34-a2b4-de6c7bfc7075",
   "metadata": {},
   "outputs": [],
   "source": [
    "model_ABSA = load_model(model_ABSA, 'bert_ABSA.pkl')"
   ]
  },
  {
   "cell_type": "code",
   "execution_count": 33,
   "id": "eaf841fd-2b87-49d2-987b-0cb4e48b1a79",
   "metadata": {},
   "outputs": [
    {
     "name": "stdout",
     "output_type": "stream",
     "text": [
      "              precision    recall  f1-score   support\n",
      "\n",
      "           0       0.73      0.66      0.69       497\n",
      "           1       0.63      0.74      0.68       710\n",
      "           2       0.89      0.84      0.86      1239\n",
      "\n",
      "    accuracy                           0.77      2446\n",
      "   macro avg       0.75      0.75      0.75      2446\n",
      "weighted avg       0.78      0.77      0.77      2446\n",
      "\n"
     ]
    }
   ],
   "source": [
    "x, y = test_model_ABSA(test_loader)\n",
    "print(classification_report(x, y, target_names=[str(i) for i in range(3)]))"
   ]
  },
  {
   "cell_type": "code",
   "execution_count": null,
   "id": "9dda5d81-3365-4d55-add2-0f97892615bf",
   "metadata": {},
   "outputs": [],
   "source": []
  }
 ],
 "metadata": {
  "kernelspec": {
   "display_name": "Python 3 (ipykernel)",
   "language": "python",
   "name": "python3"
  },
  "language_info": {
   "codemirror_mode": {
    "name": "ipython",
    "version": 3
   },
   "file_extension": ".py",
   "mimetype": "text/x-python",
   "name": "python",
   "nbconvert_exporter": "python",
   "pygments_lexer": "ipython3",
   "version": "3.10.9"
  }
 },
 "nbformat": 4,
 "nbformat_minor": 5
}
